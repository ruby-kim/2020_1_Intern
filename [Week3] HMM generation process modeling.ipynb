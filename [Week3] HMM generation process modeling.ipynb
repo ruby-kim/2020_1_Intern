{
  "nbformat": 4,
  "nbformat_minor": 0,
  "metadata": {
    "colab": {
      "name": "[Week 3] HMM: generation process modeling.ipynb",
      "provenance": []
    },
    "kernelspec": {
      "name": "python3",
      "display_name": "Python 3"
    },
    "accelerator": "GPU"
  },
  "cells": [
    {
      "cell_type": "code",
      "metadata": {
        "id": "-tQpNJJdE8ho",
        "colab_type": "code",
        "colab": {}
      },
      "source": [
        "%tensorflow_version 1.x"
      ],
      "execution_count": 0,
      "outputs": []
    },
    {
      "cell_type": "markdown",
      "metadata": {
        "id": "mhOJu3VD2EgY",
        "colab_type": "text"
      },
      "source": [
        "# HMM"
      ]
    },
    {
      "cell_type": "markdown",
      "metadata": {
        "id": "30k5sFFy1znj",
        "colab_type": "text"
      },
      "source": [
        "* Markov Model: 현재 일어날 확률이 바로 이전의 확률에만 영향을 받는 확률 모델\n",
        "* Hidden Markov Model: Markov Model + \"관찰할 상대가 있음\""
      ]
    },
    {
      "cell_type": "markdown",
      "metadata": {
        "id": "USLxlYHt2M9f",
        "colab_type": "text"
      },
      "source": [
        "## Example\n",
        "\n",
        "![image](https://user-images.githubusercontent.com/38516906/75749783-fc0cd180-5d65-11ea-8bee-4b9d1c598574.png)\n",
        "\n",
        "1. hidden state: Rainy, Sunny => 비나 맑음이라는 두 가지 상태는 알 수 있지만, 현재 날씨에 대한 생태는 전혀 알 수 없음\n",
        "\n",
        "2. initial state 확률을 정의함. 여기서는 Rainy: 0.6, Sunny: 0.4로 정의되어 있음  \n",
        "  이 지역은 대체적으로 비가 더 많이 왔음을 통계적으로 확인시켜줌\n",
        "\n",
        "3. transition probability(전이 확률):  \n",
        "   * 어제 rainy->오늘 sunny: 0.3\n",
        "   * 어제 rainy->오늘 rainy: 0.7\n",
        "   * 어제 sunny->오늘 rainy: 0.4\n",
        "   * 어제 sunny->오늘 sunny: 0.6\n",
        "\n",
        "4. emission_probability: 각각의 상태(rainy, sunny)는 각각이 방출할 수 있는 관측 결과를 나타낼 수 있음  \n",
        "   여기에는 총 3개의 값이 있음: walk, shop, clean\n",
        "   * rainy + walk: 0.1\n",
        "   * rainy + shop: 0.4\n",
        "   * rainy + clean: 0.5\n",
        "   * sunny + walk: 0.6\n",
        "   * sunny + shop: 0.3\n",
        "   * sunny + clean: 0.1\n",
        "\n",
        "\n",
        "<br><br>\n",
        "\n",
        "이렇게 3가지의 확률 변수 값이 존재한다면, 어떤 결과가 예측되었을 때의 확률을 찾아낼 수 있음."
      ]
    },
    {
      "cell_type": "markdown",
      "metadata": {
        "id": "10Xc7l4N5CVJ",
        "colab_type": "text"
      },
      "source": [
        "그렇다면,  \n",
        "walk -> shop -> shop -> clean -> shop할 확률 값을 찾아보자."
      ]
    },
    {
      "cell_type": "code",
      "metadata": {
        "id": "jv_GssrDy-fZ",
        "colab_type": "code",
        "colab": {}
      },
      "source": [
        "import numpy as np\n",
        "import tensorflow as tf\n",
        "\n",
        "'''Define the HMM class'''\n",
        "class HMM(object):\n",
        "  def __init__(self, initial_prob, trans_prob, obs_prob):\n",
        "    self.N = np.size(initial_prob)\n",
        "    self.initial_prob = initial_prob\n",
        "    self.trans_prob = trans_prob\n",
        "    self.emission = tf.constant(obs_prob)\n",
        "\n",
        "    assert self.initial_prob.shape == (self.N, 1)\n",
        "    assert self.trans_prob.shape == (self.N, self.N)\n",
        "    assert obs_prob.shape[0] == self.N\n",
        "\n",
        "    self.obs_idx = tf.placeholder(tf.int32)\n",
        "    self.fwd = tf.placeholder(tf.float64)\n",
        "\n",
        "  def get_emission(self, obs_idx): \n",
        "    slice_location = [0, obs_idx]\n",
        "    num_rows = tf.shape(self.emission)[0]\n",
        "    slice_shape = [num_rows, 1]\n",
        "    return tf.slice(self.emission, slice_location, slice_shape)\n",
        "\n",
        "  def forward_init_op(self):\n",
        "    obs_prob = self.get_emission(self.obs_idx)\n",
        "    fwd = tf.multiply(self.initial_prob, obs_prob)\n",
        "    return fwd\n",
        "\n",
        "  def forward_op(self):\n",
        "    transitions = tf.matmul(self.fwd, tf.transpose(self.get_emission(self.obs_idx)))\n",
        "    weighted_transitions = transitions * self.trans_prob \n",
        "    fwd = tf.reduce_sum(weighted_transitions, 0) \n",
        "    return tf.reshape(fwd, tf.shape(self.fwd))\n",
        "\n",
        "\n",
        "\n",
        "\n",
        "\n",
        "\n",
        "\n",
        "def forward_algorithm(sess, hmm, observations): \n",
        "  fwd = sess.run(hmm.forward_init_op(), feed_dict={hmm.obs_idx: observations[0]}) # observations[0]: walk\n",
        "  for t in range(1, len(observations)): \n",
        "    fwd = sess.run(hmm.forward_op(), feed_dict={hmm.obs_idx: observations[t], hmm.fwd:fwd}) \n",
        "    prob = sess.run(tf.reduce_sum(fwd)) \n",
        "  return prob"
      ],
      "execution_count": 0,
      "outputs": []
    },
    {
      "cell_type": "code",
      "metadata": {
        "id": "YoF3YwnH6Tyi",
        "colab_type": "code",
        "colab": {
          "base_uri": "https://localhost:8080/",
          "height": 35
        },
        "outputId": "4bd1d400-3a81-4d2b-c95b-3590f414a8ee"
      },
      "source": [
        "''' Make settings '''\n",
        "initial_prob = np.array([ [0.6], [0.4] ]) # rainy, sunny\n",
        "\n",
        "trans_prob = np.array([ \n",
        "                       [0.7, 0.3], # rainy->rainy, rainy->sunny,\n",
        "                       [0.4, 0.6]  # sunny->rainy, sunny->sunny\n",
        "                       ])  \n",
        "obs_prob = np.array([\n",
        "                     [0.1, 0.4, 0.5], # rainy: walk, shop, clean\n",
        "                     [0.6, 0.3, 0.1]  # sunny: walk, shop, clean\n",
        "                    ])\n",
        "\n",
        "\n",
        "\n",
        "''' Insert settings '''\n",
        "hmm = HMM(initial_prob = initial_prob, trans_prob = trans_prob, obs_prob = obs_prob)\n",
        "\n",
        "\n",
        "\n",
        "''' Make what we want to figure prob and print out that\n",
        "    (walk->shop->shop->clean->shop)                     '''\n",
        "observations = [0, 1, 1, 2, 1] # 0: walk / 1: shop / 2: clean\n",
        "\n",
        "with tf.Session() as sess:\n",
        "  prob = forward_algorithm(sess, hmm, observations)\n",
        "  print('Probability of observing {} is {}'.format(observations, prob))"
      ],
      "execution_count": 4,
      "outputs": [
        {
          "output_type": "stream",
          "text": [
            "Probability of observing [0, 1, 1, 2, 1] is 0.004540300799999999\n"
          ],
          "name": "stdout"
        }
      ]
    }
  ]
}
