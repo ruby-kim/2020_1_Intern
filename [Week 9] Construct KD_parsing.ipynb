{
  "nbformat": 4,
  "nbformat_minor": 0,
  "metadata": {
    "colab": {
      "name": "[Week 9] Construct korean dictionary: parsing.ipynb",
      "provenance": [],
      "collapsed_sections": []
    },
    "kernelspec": {
      "name": "python3",
      "display_name": "Python 3"
    },
    "accelerator": "GPU"
  },
  "cells": [
    {
      "cell_type": "markdown",
      "metadata": {
        "id": "RICekD-J2vjJ",
        "colab_type": "text"
      },
      "source": [
        "# 나만의 한국어 사전 구축하기: parsing\n",
        "1. 먼저 다양한 형태소 분석기(꼬꼬마, 트위터, 은전한닢 등)가 들어있는 konlpy를 설치하자"
      ]
    },
    {
      "cell_type": "code",
      "metadata": {
        "id": "tjoGeeHcoEmi",
        "colab_type": "code",
        "colab": {
          "base_uri": "https://localhost:8080/",
          "height": 613
        },
        "outputId": "a80e2880-da6a-4ab7-cbb3-57766f4549d2"
      },
      "source": [
        "!pip install konlpy"
      ],
      "execution_count": 1,
      "outputs": [
        {
          "output_type": "stream",
          "text": [
            "Collecting konlpy\n",
            "\u001b[?25l  Downloading https://files.pythonhosted.org/packages/85/0e/f385566fec837c0b83f216b2da65db9997b35dd675e107752005b7d392b1/konlpy-0.5.2-py2.py3-none-any.whl (19.4MB)\n",
            "\u001b[K     |████████████████████████████████| 19.4MB 170kB/s \n",
            "\u001b[?25hCollecting colorama\n",
            "  Downloading https://files.pythonhosted.org/packages/c9/dc/45cdef1b4d119eb96316b3117e6d5708a08029992b2fee2c143c7a0a5cc5/colorama-0.4.3-py2.py3-none-any.whl\n",
            "Requirement already satisfied: numpy>=1.6 in /usr/local/lib/python3.6/dist-packages (from konlpy) (1.17.5)\n",
            "Collecting tweepy>=3.7.0\n",
            "  Downloading https://files.pythonhosted.org/packages/36/1b/2bd38043d22ade352fc3d3902cf30ce0e2f4bf285be3b304a2782a767aec/tweepy-3.8.0-py2.py3-none-any.whl\n",
            "Collecting JPype1>=0.7.0\n",
            "\u001b[?25l  Downloading https://files.pythonhosted.org/packages/d7/3c/1dbe5d6943b5c68e8df17c8b3a05db4725eadb5c7b7de437506aa3030701/JPype1-0.7.2-cp36-cp36m-manylinux1_x86_64.whl (2.4MB)\n",
            "\u001b[K     |████████████████████████████████| 2.4MB 51.2MB/s \n",
            "\u001b[?25hRequirement already satisfied: lxml>=4.1.0 in /usr/local/lib/python3.6/dist-packages (from konlpy) (4.2.6)\n",
            "Collecting beautifulsoup4==4.6.0\n",
            "\u001b[?25l  Downloading https://files.pythonhosted.org/packages/9e/d4/10f46e5cfac773e22707237bfcd51bbffeaf0a576b0a847ec7ab15bd7ace/beautifulsoup4-4.6.0-py3-none-any.whl (86kB)\n",
            "\u001b[K     |████████████████████████████████| 92kB 13.1MB/s \n",
            "\u001b[?25hRequirement already satisfied: requests-oauthlib>=0.7.0 in /usr/local/lib/python3.6/dist-packages (from tweepy>=3.7.0->konlpy) (1.3.0)\n",
            "Requirement already satisfied: requests>=2.11.1 in /usr/local/lib/python3.6/dist-packages (from tweepy>=3.7.0->konlpy) (2.21.0)\n",
            "Requirement already satisfied: six>=1.10.0 in /usr/local/lib/python3.6/dist-packages (from tweepy>=3.7.0->konlpy) (1.12.0)\n",
            "Requirement already satisfied: PySocks>=1.5.7 in /usr/local/lib/python3.6/dist-packages (from tweepy>=3.7.0->konlpy) (1.7.1)\n",
            "Requirement already satisfied: oauthlib>=3.0.0 in /usr/local/lib/python3.6/dist-packages (from requests-oauthlib>=0.7.0->tweepy>=3.7.0->konlpy) (3.1.0)\n",
            "Requirement already satisfied: chardet<3.1.0,>=3.0.2 in /usr/local/lib/python3.6/dist-packages (from requests>=2.11.1->tweepy>=3.7.0->konlpy) (3.0.4)\n",
            "Requirement already satisfied: certifi>=2017.4.17 in /usr/local/lib/python3.6/dist-packages (from requests>=2.11.1->tweepy>=3.7.0->konlpy) (2019.11.28)\n",
            "Requirement already satisfied: idna<2.9,>=2.5 in /usr/local/lib/python3.6/dist-packages (from requests>=2.11.1->tweepy>=3.7.0->konlpy) (2.8)\n",
            "Requirement already satisfied: urllib3<1.25,>=1.21.1 in /usr/local/lib/python3.6/dist-packages (from requests>=2.11.1->tweepy>=3.7.0->konlpy) (1.24.3)\n",
            "Installing collected packages: colorama, tweepy, JPype1, beautifulsoup4, konlpy\n",
            "  Found existing installation: tweepy 3.6.0\n",
            "    Uninstalling tweepy-3.6.0:\n",
            "      Successfully uninstalled tweepy-3.6.0\n",
            "  Found existing installation: beautifulsoup4 4.6.3\n",
            "    Uninstalling beautifulsoup4-4.6.3:\n",
            "      Successfully uninstalled beautifulsoup4-4.6.3\n",
            "Successfully installed JPype1-0.7.2 beautifulsoup4-4.6.0 colorama-0.4.3 konlpy-0.5.2 tweepy-3.8.0\n"
          ],
          "name": "stdout"
        }
      ]
    },
    {
      "cell_type": "markdown",
      "metadata": {
        "id": "ASHzDmucpYQJ",
        "colab_type": "text"
      },
      "source": [
        "2. 이제 어떤 형태소 분석기를 쓸지 결정해야 한다.  \n",
        "아래의 그림은 문자의 개수에 따른, KoNLPy를 써서 형태소 분석과 품사 태깅 시 소요되는 시간을 뜻하는데  \n",
        "일단 데이터가 클 수록 꼬꼬마(Kkma)가 성능이 좋으니, 연습삼아 꼬꼬마로 이용해보자\n",
        "![image](https://user-images.githubusercontent.com/38516906/76173857-8336cb00-61e6-11ea-9d82-5d73615f5fd6.png)\n"
      ]
    },
    {
      "cell_type": "markdown",
      "metadata": {
        "id": "a-Yk4bIK3dpo",
        "colab_type": "text"
      },
      "source": [
        "3. 데이터는 [국립국어원 언어정보나눔터 > 통합자료실 > 데이터베이스 자료 > 말뭉치 파일](https://ithub.korean.go.kr/user/total/database/corpusManager.do) > 전화대화_전화통화, 전자전사자료(원시: 7CM00039.txt)  \n",
        "를 쓸 것이다.  \n",
        "저작권 때문에 파일을 올릴 수 없으니, 직접 회원가입해서 다운받도록 하자"
      ]
    },
    {
      "cell_type": "markdown",
      "metadata": {
        "id": "T8rtfn124J26",
        "colab_type": "text"
      },
      "source": [
        "4. 먼저 파일을 업로드하자.\n",
        "아래의 코드는 구글 colab에서 진행 시 사용할 수 있는 코드이다."
      ]
    },
    {
      "cell_type": "code",
      "metadata": {
        "id": "q0U3-21muPrc",
        "colab_type": "code",
        "colab": {
          "resources": {
            "http://localhost:8080/nbextensions/google.colab/files.js": {
              "data": "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",
              "ok": true,
              "headers": [
                [
                  "content-type",
                  "application/javascript"
                ]
              ],
              "status": 200,
              "status_text": ""
            }
          },
          "base_uri": "https://localhost:8080/",
          "height": 78
        },
        "outputId": "ec2e8d88-739c-459e-dabd-c0a1883420fb"
      },
      "source": [
        "from google.colab import files\n",
        "uploaded = files.upload()"
      ],
      "execution_count": 2,
      "outputs": [
        {
          "output_type": "display_data",
          "data": {
            "text/html": [
              "\n",
              "     <input type=\"file\" id=\"files-d87377f0-b89e-4ee2-abab-5248776ca5b4\" name=\"files[]\" multiple disabled />\n",
              "     <output id=\"result-d87377f0-b89e-4ee2-abab-5248776ca5b4\">\n",
              "      Upload widget is only available when the cell has been executed in the\n",
              "      current browser session. Please rerun this cell to enable.\n",
              "      </output>\n",
              "      <script src=\"/nbextensions/google.colab/files.js\"></script> "
            ],
            "text/plain": [
              "<IPython.core.display.HTML object>"
            ]
          },
          "metadata": {
            "tags": []
          }
        },
        {
          "output_type": "stream",
          "text": [
            "Saving 7CM00039.txt to 7CM00039.txt\n"
          ],
          "name": "stdout"
        }
      ]
    },
    {
      "cell_type": "markdown",
      "metadata": {
        "id": "l-qJZCUD4brS",
        "colab_type": "text"
      },
      "source": [
        "5. 이제 parsing을 하고 사전을 만들어보자\n",
        " * 사용 파싱 라이브러리: BeautifulSoup\n",
        " * 파일형식: TEI(Text Encoding Initiative) - \n",
        " 텍스트를 디지털 형식으로 표현하기 위한 표준을 공동으로 개발하고 유지하는 컨소시엄"
      ]
    },
    {
      "cell_type": "markdown",
      "metadata": {
        "id": "3TO2saLoEawY",
        "colab_type": "text"
      },
      "source": [
        "![image](https://user-images.githubusercontent.com/38516906/76177276-052ef000-61f7-11ea-8dd0-16b88b79f7ff.png)\n"
      ]
    },
    {
      "cell_type": "code",
      "metadata": {
        "id": "A7yR2qwsuqTB",
        "colab_type": "code",
        "colab": {
          "base_uri": "https://localhost:8080/",
          "height": 127
        },
        "outputId": "b73d9cc1-0c91-4a80-9be6-6e032f88dbb5"
      },
      "source": [
        "import codecs\n",
        "from konlpy.tag import Kkma\n",
        "from bs4 import BeautifulSoup\n",
        "import copy\n",
        "\n",
        "def make_myDict(fileName, pass_corpus, del_word_list):\n",
        "  ##### read file #####\n",
        "  with open(file = fileName, mode=\"r\", encoding=\"utf-16\") as f: # utf-16으로 안하면 오류남\n",
        "    tei = f.read()\n",
        "    soup = BeautifulSoup(tei, \"html.parser\")\n",
        "    mylist = soup.select(\"s\") # s 태그 글자 모두 추출\n",
        "    result = str([text.getText() for text in mylist]) # 리스트 값 모음으로 변경\n",
        "  \n",
        "    # make dictionary #\n",
        "    word_dict = {}\n",
        "    '''\n",
        "    (꼬꼬마는 태그가 너무 많아서)임의로 필요없다고 생각하는 부분(콤마, 감탄사 등)은\n",
        "    코퍼스 앞글자만(UN이면 U만) 따와서 임의로 제거\n",
        "    '''\n",
        "\n",
        "    lines = result.split(\"\\n\")\n",
        "    for line in lines:\n",
        "      malist = kkma.pos(line)\n",
        "      for word in malist:\n",
        "        if word[1][0] != 'I' and word[1][0] != 'S' and word[1][0] != 'U': # 임의제거\n",
        "          if not word[0] in word_dict:\n",
        "            word_dict[word[0]] = 0\n",
        "          word_dict[word[0]] += 1\n",
        "\n",
        "\n",
        "  ##### delete optional word #####\n",
        "  modify_word_dict = copy.deepcopy(word_dict)\n",
        "  for del_word in del_word_list:\n",
        "    modify_word_dict.pop(del_word, None)\n",
        "\n",
        "\n",
        "  ##### print result #####\n",
        "  keys1 = sorted(word_dict.items(), key=lambda x:x[1], reverse=True) #빈도가 높은 순으로 정렬\n",
        "  print(\"[origin result]\")\n",
        "  for word, count in keys1:\n",
        "    print(\"{}({})\".format(word, count), end=\"\")\n",
        "\n",
        "  keys2 = sorted(modify_word_dict.items(), key=lambda x:x[1], reverse=True) #빈도가 높은 순으로 정렬\n",
        "  print(\"\\n\\n[modify result(delete wanted words)]\")\n",
        "  for word, count in keys2: #[:50]:\n",
        "    print(\"{}({})\".format(word, count), end=\"\")\n",
        "\n",
        "\n",
        "\n",
        "\n",
        "\n",
        "\n",
        "\n",
        "\n",
        "\n",
        "\n",
        "\n",
        "if __name__ == \"__main__\":\n",
        "  kkma = Kkma()\n",
        "\n",
        "  fileName = \"7CM00039.txt\"\n",
        "  del_word_list = [\"XX\", \"있\", \"는데\", \"잖아\", \"1\", '치', 'X', '에서', '외', '머', '막'] # 임의설정\n",
        "  pass_corpus = ['I', 'S', 'U'] #### 수정 필요\n",
        "\n",
        "  make_myDict(fileName, pass_corpus, del_word_list)"
      ],
      "execution_count": 39,
      "outputs": [
        {
          "output_type": "stream",
          "text": [
            "[origin result]\n",
            "어(67)아(35)하(18)이(13)고(12)야(8)우(7)ㄴ(7)는(7)나(7)었(7)이십(7)왜(7)와(6)여(6)분(6)뭐(5)것(5)오(5)언니(5)에(5)알(5)모르(4)ㄴ가(4)안(4)가(4)지(4)내일(4)주(4)대고(3)그렇(3)보(3)우리(3)녹음(3)되(3)니(3)말(3)도(3)다(3)있(3)는데(3)문(3)아이(3)라(3)그러(3)거(3)오빠(3)면(3)마시(3)말하(2)이거(2)데(2)무슨(2)이래(2)바(2)정말(2)네(2)이나(2)잖아(2)더니(2)때리(2)후(2)계속(2)미안(2)닫(2)끄(2)았(2)동안(2)좋(2)보세(2)게(2)그럼(2)러(2)어떡하(2)받(2)그리하(2)놓(2)추우(2)요(2)또(2)술(2)냐(2)못(2)집(2)XX(2)한(2)아르바이트(2)시(2)매일(2)얼마나(2)엄청(2)뭔(1)이상(1)기계(1)언어(1)경로(1)개발(1)연구원(1)계(1)발(1)ㄴ데(1)지영(1)예쁘(1)빨리(1)그냥(1)지금(1)의(1)아름다움(1)대하(1)얘기(1)아푸(1)바람(1)붇(1)마이크(1)에다(1)따(1)X(1)눌르(1)얼만큼(1)불(1)구(1)1(1)맞(1)하래(1)몰(1)은(1)아니(1)연구(1)에서(1)본데(1)외(1)이렇(1)굳이(1)어도(1)으니까(1)입(1)아프(1)머(1)막(1)구경(1)부(1)마(1)싸(1)아야(1)노(1)않(1)아요(1)아우(1)열(1)수업(1)장난(1)드(1)쉬(1)던데(1)어띃게(1)밥(1)을(1)먹(1)빵(1)ㄹ(1)이것(1)어느(1)지애(1)너(1)저기(1)다가(1)거기(1)저거(1)내(1)돈(1)얼마(1)아르(1)바이(1)저(1)유진(1)기로(1)바로(1)차(1)양(1)다음(1)부터(1)일주일(1)육(1)일(1)까지(1)여도(1)터(1)중요(1)속(1)은데(1)ㄹ라고(1)유(1)겠(1)선(1)더(1)치(1)\n",
            "\n",
            "[modify result(delete wanted words)]\n",
            "어(67)아(35)하(18)이(13)고(12)야(8)우(7)ㄴ(7)는(7)나(7)었(7)이십(7)왜(7)와(6)여(6)분(6)뭐(5)것(5)오(5)언니(5)에(5)알(5)모르(4)ㄴ가(4)안(4)가(4)지(4)내일(4)주(4)대고(3)그렇(3)보(3)우리(3)녹음(3)되(3)니(3)말(3)도(3)다(3)문(3)아이(3)라(3)그러(3)거(3)오빠(3)면(3)마시(3)말하(2)이거(2)데(2)무슨(2)이래(2)바(2)정말(2)네(2)이나(2)더니(2)때리(2)후(2)계속(2)미안(2)닫(2)끄(2)았(2)동안(2)좋(2)보세(2)게(2)그럼(2)러(2)어떡하(2)받(2)그리하(2)놓(2)추우(2)요(2)또(2)술(2)냐(2)못(2)집(2)한(2)아르바이트(2)시(2)매일(2)얼마나(2)엄청(2)뭔(1)이상(1)기계(1)언어(1)경로(1)개발(1)연구원(1)계(1)발(1)ㄴ데(1)지영(1)예쁘(1)빨리(1)그냥(1)지금(1)의(1)아름다움(1)대하(1)얘기(1)아푸(1)바람(1)붇(1)마이크(1)에다(1)따(1)눌르(1)얼만큼(1)불(1)구(1)맞(1)하래(1)몰(1)은(1)아니(1)연구(1)본데(1)이렇(1)굳이(1)어도(1)으니까(1)입(1)아프(1)구경(1)부(1)마(1)싸(1)아야(1)노(1)않(1)아요(1)아우(1)열(1)수업(1)장난(1)드(1)쉬(1)던데(1)어띃게(1)밥(1)을(1)먹(1)빵(1)ㄹ(1)이것(1)어느(1)지애(1)너(1)저기(1)다가(1)거기(1)저거(1)내(1)돈(1)얼마(1)아르(1)바이(1)저(1)유진(1)기로(1)바로(1)차(1)양(1)다음(1)부터(1)일주일(1)육(1)일(1)까지(1)여도(1)터(1)중요(1)속(1)은데(1)ㄹ라고(1)유(1)겠(1)선(1)더(1)"
          ],
          "name": "stdout"
        }
      ]
    },
    {
      "cell_type": "markdown",
      "metadata": {
        "id": "scbjgjFoRO--",
        "colab_type": "text"
      },
      "source": [
        "# Reference\n",
        "* TEI 설명: https://tei-c.org/tools/\n",
        "* parsing 코드: https://www.crummy.com/software/BeautifulSoup/bs4/doc/"
      ]
    }
  ]
}