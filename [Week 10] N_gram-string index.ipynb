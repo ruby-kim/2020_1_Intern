{
  "nbformat": 4,
  "nbformat_minor": 0,
  "metadata": {
    "colab": {
      "name": "[Week 10] N-gram.ipynb",
      "provenance": []
    },
    "kernelspec": {
      "name": "python3",
      "display_name": "Python 3"
    },
    "accelerator": "GPU"
  },
  "cells": [
    {
      "cell_type": "code",
      "metadata": {
        "id": "-tQpNJJdE8ho",
        "colab_type": "code",
        "colab": {}
      },
      "source": [
        "%tensorflow_version 1.x"
      ],
      "execution_count": 0,
      "outputs": []
    },
    {
      "cell_type": "markdown",
      "metadata": {
        "id": "N7TqFUpSWElO",
        "colab_type": "text"
      },
      "source": [
        "# N-gram\n",
        "정해진 문자 수 단위로 문장을 잘라, [단어를 포함한 문자열]로 인덱스하는 방식\n",
        "\n",
        "ex) 문장: 검색 엔진의 구조  \n",
        "&nbsp;&nbsp;&nbsp;&nbsp;&nbsp;&nbsp;&nbsp;N = 4  \n",
        "\n",
        "    * 검색엔진\n",
        "    * 색엔진의\n",
        "    * 엔진의구\n",
        "    * 진의구조\n",
        "\n",
        "이후 검색 시에 검색, 엔진, [검색], [엔진], [구조] 등의 단어를 포함한 문자열이 있는 장소를 찾는 것으로,  \n",
        "어떤 파일의 어디에 어떤 단어가 포홤되어 있는지 정확히 파악할 수 있음\n",
        "\n",
        "\n",
        "<br><br><br>\n",
        "### 장점\n",
        "* 단순한 알고리즘\n",
        "* 검색누락 발생 x\n",
        "\n",
        "### 단점\n",
        "* 큰 검색 노이즈\n",
        "* DB용량 증가"
      ]
    },
    {
      "cell_type": "code",
      "metadata": {
        "id": "VxlvnIrgXdFj",
        "colab_type": "code",
        "colab": {
          "base_uri": "https://localhost:8080/",
          "height": 35
        },
        "outputId": "5490b55f-dc7f-4648-b64d-68617898e29c"
      },
      "source": [
        "# make n_gram function\n",
        "def n_gram(sentence, N):\n",
        "  sentence = sentence.replace(\" \",\"\")\n",
        "  result = [sentence[i:i+N] for i in range(len(sentence))]\n",
        "  return result\n",
        "\n",
        "print(n_gram(\"안녕하세요\", 2))"
      ],
      "execution_count": 46,
      "outputs": [
        {
          "output_type": "stream",
          "text": [
            "['안녕', '녕하', '하세', '세요', '요']\n"
          ],
          "name": "stdout"
        }
      ]
    },
    {
      "cell_type": "code",
      "metadata": {
        "id": "WEkJXnk7X4vp",
        "colab_type": "code",
        "colab": {
          "base_uri": "https://localhost:8080/",
          "height": 55
        },
        "outputId": "8d882033-8ba8-4997-de91-0a1b691ce73c"
      },
      "source": [
        "# make n-gram similarity estimation function\n",
        "def similarity(st1, st2, N):\n",
        "  st1, st2 = st1.replace(\" \",\"\"), st2.replace(\" \",\"\")\n",
        "  a, b = n_gram(st1, N), n_gram(st2, N)\n",
        "  similar_word = [i for i in a for j in b if i==j]\n",
        "  return N, similar_word, a, b\n",
        "\n",
        "sentence1 = \"요즘 오스카상을 받은 기생충에서 짜파구리가 나왔다며 짜파구리 맛있겠다\"\n",
        "sentence2 = \"요즘에 기생충이 오스카상을 받았는데 짜파구리가 나왔대 맛있는 짜파구리\"\n",
        "N, similar_word, n_gram_st1, n_gram_st2 = similarity(sentence1, sentence2, 2)\n",
        "print(\"{}-gram: {}, {}\".format(N, len(similar_word)/len(sentence1), similar_word)) # 결과가 딱 떨어지는건 우연의 일치(...)"
      ],
      "execution_count": 61,
      "outputs": [
        {
          "output_type": "stream",
          "text": [
            "2-gram: 0.631578947368421, ['요즘', '오스', '스카', '카상', '상을', '을받', '기생', '생충', '짜파', '짜파', '파구', '파구', '구리', '구리', '리가', '가나', '나왔', '짜파', '짜파', '파구', '파구', '구리', '구리', '맛있']\n"
          ],
          "name": "stdout"
        }
      ]
    },
    {
      "cell_type": "code",
      "metadata": {
        "id": "7lb8L_LigiC7",
        "colab_type": "code",
        "colab": {
          "base_uri": "https://localhost:8080/",
          "height": 55
        },
        "outputId": "9de6a78e-9046-408b-a9d1-0d75b033a162"
      },
      "source": [
        "# make n-gram frequency\n",
        "def frequency(similar_word):\n",
        "  freqlist = {}\n",
        "  for sim in similar_word:\n",
        "    if sim in freqlist:\n",
        "      freqlist[sim] += 1\n",
        "    else:\n",
        "      freqlist[sim] = 1\n",
        "  return freqlist\n",
        "\n",
        "freqlist = frequency(similar_word)\n",
        "sorted_freqlist = sorted(freqlist.items())\n",
        "print(sorted_freqlist)"
      ],
      "execution_count": 65,
      "outputs": [
        {
          "output_type": "stream",
          "text": [
            "[('가나', 1), ('구리', 4), ('기생', 1), ('나왔', 1), ('리가', 1), ('맛있', 1), ('상을', 1), ('생충', 1), ('스카', 1), ('오스', 1), ('요즘', 1), ('을받', 1), ('짜파', 4), ('카상', 1), ('파구', 4)]\n"
          ],
          "name": "stdout"
        }
      ]
    }
  ]
}
