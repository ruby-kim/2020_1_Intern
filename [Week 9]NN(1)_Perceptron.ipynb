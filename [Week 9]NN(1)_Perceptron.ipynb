{
  "nbformat": 4,
  "nbformat_minor": 0,
  "metadata": {
    "colab": {
      "name": "[Week 9] NN(1): Perceptron.ipynb",
      "provenance": [],
      "collapsed_sections": [
        "otlSZp8vScVE"
      ]
    },
    "kernelspec": {
      "name": "python3",
      "display_name": "Python 3"
    },
    "accelerator": "GPU"
  },
  "cells": [
    {
      "cell_type": "code",
      "metadata": {
        "id": "-tQpNJJdE8ho",
        "colab_type": "code",
        "colab": {}
      },
      "source": [
        "%tensorflow_version 1.x"
      ],
      "execution_count": 0,
      "outputs": []
    },
    {
      "cell_type": "markdown",
      "metadata": {
        "id": "zgmd0DEOQnxb",
        "colab_type": "text"
      },
      "source": [
        "# NN(Neural Network)\n",
        "### 간단한 NN 역사\n",
        "* 1940년대\n",
        "   * 신경 세포가 하는 일 == 컴퓨터를 구성하는 이진회로 -> **perceptron** 디자인 시작\n",
        "   * 하지만 perceptron은 선형분리 기능밖에 없었음<br>: 대부분의 문제들(대표적으로 XOR문제)을 해결하지 못함\n",
        "   * NN 침체기 시작\n",
        "* 1980년대\n",
        "  * perceptron을 여러 개 쌓아 한계를 극복한 **Multi-Layer Perceptron(MLP)**의 등장<br>+ 학습을 가능하게 하는 **Backpropagation Algorithm** 제시,<br>다시 살아나기 시작한 인공지능 시대\n",
        "  * (1989년) 필기 숫자 인식 문제를 사람만큼 잘 분류해내는 실용적인 논문 발표,<br>우체국의 수표 인식 시스템 등에 실용적으로 활용됨\n",
        "    * 하지만 더 어려운 문제들에는 잘 적용할 수 없었음<br>+신경망이 학습할 때 생기는 문제들을 해결하지 못하는 한계\n",
        "    * SVM같은 새로운 기술이 등장하면서 다시 NN의 침체기 시작\n",
        "* 2000년대\n",
        "  * 빅데이터 발전과 컴퓨팅 자원들의 발달로 다시금 시작\n",
        "  * **데이터가 많을수록 성능이 좋아지기 때문**(NN의 특징)\n",
        "            "
      ]
    },
    {
      "cell_type": "markdown",
      "metadata": {
        "id": "_T3oNYEvSWMc",
        "colab_type": "text"
      },
      "source": [
        "# Perceptron\n",
        "### 이해하기  \n",
        "&nbsp;&nbsp;&nbsp;&nbsp;&nbsp;![image](https://user-images.githubusercontent.com/38516906/75952055-f394d200-5ef0-11ea-999b-4add106c1f08.png)\n",
        "  * 위의 사진은 사람의 신경인 **뉴런**\n",
        "  * 핵심은 **신호들을 받은 뒤 출력을 하기도 하고 하지도 않는다는 점**\n",
        "  * 이를 기계적으로 구현한 것이 perceptron\n",
        "<br><br>\n",
        "\n",
        "### 구조  \n",
        "&nbsp;&nbsp;&nbsp;&nbsp;&nbsp;![image](https://user-images.githubusercontent.com/38516906/75952762-01e3ed80-5ef3-11ea-845a-b5d186859aa8.png)\n",
        "  * 여러 개의 Input을 조합해서 0이나 1을 출력\n",
        "  * 즉, 뉴런이 하는 일과 완벽하게 동일하다는 것\n",
        "  * [참고] 용어 설명\n",
        "    * Bias(편향): Input 값들인 x1, x2들이 얼마나 쉽게 **활성화(1로 출력; activation)**되느냐를 조정하는 매개변수\n",
        "    * Weight(가중치): 입력신호가 결과 출력에 주는 영향도를 조절하는 매개변수\n",
        "    * Activation Function\n",
        "      * **출력의 기준을 설정하는 것**\n",
        "        * '여러 Input 값들을 합쳐서 10이 넘으면 1을 출력하고, 넘지 못하면 0을 출력하자'라는 것처럼,<br>기준점을 마련해주는 함수\n",
        "      * 초창기에는 **Step Function**이라는 함수 사용  \n",
        "        ![image](https://user-images.githubusercontent.com/38516906/75953027-b1b95b00-5ef3-11ea-83a0-0ad4e60e069e.png)\n",
        "        * 계단함수라고 불리기도 함\n",
        "        * Input값들의 조합이 일정 기준을 넘을 경우에만 출력하게끔 만들어주는 함수\n",
        "<br><br>"
      ]
    },
    {
      "cell_type": "markdown",
      "metadata": {
        "colab_type": "text",
        "id": "hbZ_xLPTQSIq"
      },
      "source": [
        "### 예제  \n",
        "&nbsp;&nbsp;&nbsp;&nbsp;&nbsp;![image](https://user-images.githubusercontent.com/38516906/75953260-550a7000-5ef4-11ea-9446-ac0ebf4fc698.png)  \n",
        "&nbsp;&nbsp;&nbsp;&nbsp;&nbsp;기본적인 Gate인 And Gate를 구현해보자\n",
        "  * 인공지능의 역사에서, perceptron은 **\"선형분리\"**를 할 수 있다고 했음\n",
        "  * 따라서 아래의 그림처럼 하나의 선으로 결과들을 구별할 수 있음\n",
        "    ![image](https://user-images.githubusercontent.com/38516906/75953669-30fb5e80-5ef5-11ea-95d0-a52678a24975.png)"
      ]
    },
    {
      "cell_type": "code",
      "metadata": {
        "id": "qT6PGawNXMnx",
        "colab_type": "code",
        "colab": {
          "base_uri": "https://localhost:8080/",
          "height": 35
        },
        "outputId": "5e882aa8-8c20-4ec5-b50c-78da92a7108a"
      },
      "source": [
        "import numpy as np\n",
        "\n",
        "def AND(x1, x2):\n",
        "  w1, w2, theta = 0.5, 0.5, 0.7\n",
        "  sum = x1*w1 + x2*w2\n",
        "  if sum > theta: \n",
        "    return 1\n",
        "  else:\n",
        "    return 0\n",
        "\n",
        "print(AND(0,0), AND(1,0), AND(0,1), AND(1,1))"
      ],
      "execution_count": 7,
      "outputs": [
        {
          "output_type": "stream",
          "text": [
            "0 0 0 1\n"
          ],
          "name": "stdout"
        }
      ]
    },
    {
      "cell_type": "code",
      "metadata": {
        "id": "5VmXRgfzZAlx",
        "colab_type": "code",
        "colab": {
          "base_uri": "https://localhost:8080/",
          "height": 35
        },
        "outputId": "0ddfbb4f-2c38-479b-c0eb-435329aca192"
      },
      "source": [
        "def OR(x1, x2):\n",
        "  w1, w2, theta = 0.5, 0.5, 0.5\n",
        "  sum = x1*w1 + x2*w2\n",
        "  if sum >= theta:\n",
        "    return 1\n",
        "  else:\n",
        "    return 0\n",
        "\n",
        "print(OR(0,0), OR(0,1), OR(1,0), OR(1,1))"
      ],
      "execution_count": 8,
      "outputs": [
        {
          "output_type": "stream",
          "text": [
            "0 1 1 1\n"
          ],
          "name": "stdout"
        }
      ]
    },
    {
      "cell_type": "markdown",
      "metadata": {
        "id": "sPZJCcCQZlmy",
        "colab_type": "text"
      },
      "source": [
        "### 한계\n",
        "&nbsp;&nbsp;&nbsp;&nbsp;&nbsp;![image](https://user-images.githubusercontent.com/38516906/75954296-b3d0e900-5ef6-11ea-973c-218da6142ad5.png)  \n",
        "XOR 게이트인 경우, AND 게이트나 OR 게이트와는 달리  \n",
        "**하나의 선**으로 0과 1을 구분할 수 없음 -> 침체기 시작"
      ]
    },
    {
      "cell_type": "markdown",
      "metadata": {
        "id": "scbjgjFoRO--",
        "colab_type": "text"
      },
      "source": [
        "# Reference\n",
        "* 설명: https://sacko.tistory.com/10"
      ]
    }
  ]
}